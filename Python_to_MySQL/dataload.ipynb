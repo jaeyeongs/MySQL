{
 "cells": [
  {
   "cell_type": "code",
   "execution_count": 1,
   "id": "ebec4264",
   "metadata": {},
   "outputs": [],
   "source": [
    "import pymysql"
   ]
  },
  {
   "cell_type": "code",
   "execution_count": 2,
   "id": "3332ed44",
   "metadata": {},
   "outputs": [],
   "source": [
    "# MySQL Connection 연결\n",
    "con = pymysql.connect(host='127.0.1.1', user='root', password='root',\n",
    "                       db='madang', charset='utf8')"
   ]
  },
  {
   "cell_type": "code",
   "execution_count": 3,
   "id": "f2c3d521",
   "metadata": {},
   "outputs": [],
   "source": [
    "# Connection 으로부터 Cursor 생성\n",
    "cur = con.cursor()"
   ]
  },
  {
   "cell_type": "code",
   "execution_count": 5,
   "id": "2869f4b4",
   "metadata": {},
   "outputs": [
    {
     "data": {
      "text/plain": [
       "12"
      ]
     },
     "execution_count": 5,
     "metadata": {},
     "output_type": "execute_result"
    }
   ],
   "source": [
    "# SQL문 실행 및 Fetch\n",
    "sql = \"SELECT * FROM book\"\n",
    "cur.execute(sql)"
   ]
  },
  {
   "cell_type": "code",
   "execution_count": 6,
   "id": "97e4fd9f",
   "metadata": {},
   "outputs": [
    {
     "name": "stdout",
     "output_type": "stream",
     "text": [
      "((1, '축구의 역사', '굿스포츠', 7000), (2, '축구아는 여자', '나무수', 13000), (3, '축구의 이해', '대한미디어', 22000), (4, '골프 바이블', '대한미디어', 35000), (5, '피겨 교본', '굿스포츠', 8000), (6, '역도 단계별기술', '굿스포츠', 6000), (7, '야구의 추억', '이상미디어', 20000), (8, '야구를 부탁해', '이상미디어', 13000), (9, '올림픽 이야기', '삼성당', 7500), (10, 'Olympic Champions', 'Pearson', 13000), (21, 'Zen Golf', 'Pearson', 12000), (22, 'Soccer Skills', 'Human Kinetics', 15000))\n"
     ]
    }
   ],
   "source": [
    "# 데이타 Fetch\n",
    "rows = cur.fetchall()\n",
    "print(rows)"
   ]
  },
  {
   "cell_type": "code",
   "execution_count": 7,
   "id": "8273add8",
   "metadata": {},
   "outputs": [
    {
     "data": {
      "text/html": [
       "<div>\n",
       "<style scoped>\n",
       "    .dataframe tbody tr th:only-of-type {\n",
       "        vertical-align: middle;\n",
       "    }\n",
       "\n",
       "    .dataframe tbody tr th {\n",
       "        vertical-align: top;\n",
       "    }\n",
       "\n",
       "    .dataframe thead th {\n",
       "        text-align: right;\n",
       "    }\n",
       "</style>\n",
       "<table border=\"1\" class=\"dataframe\">\n",
       "  <thead>\n",
       "    <tr style=\"text-align: right;\">\n",
       "      <th></th>\n",
       "      <th>0</th>\n",
       "      <th>1</th>\n",
       "      <th>2</th>\n",
       "      <th>3</th>\n",
       "    </tr>\n",
       "  </thead>\n",
       "  <tbody>\n",
       "    <tr>\n",
       "      <th>0</th>\n",
       "      <td>1</td>\n",
       "      <td>축구의 역사</td>\n",
       "      <td>굿스포츠</td>\n",
       "      <td>7000</td>\n",
       "    </tr>\n",
       "    <tr>\n",
       "      <th>1</th>\n",
       "      <td>2</td>\n",
       "      <td>축구아는 여자</td>\n",
       "      <td>나무수</td>\n",
       "      <td>13000</td>\n",
       "    </tr>\n",
       "    <tr>\n",
       "      <th>2</th>\n",
       "      <td>3</td>\n",
       "      <td>축구의 이해</td>\n",
       "      <td>대한미디어</td>\n",
       "      <td>22000</td>\n",
       "    </tr>\n",
       "    <tr>\n",
       "      <th>3</th>\n",
       "      <td>4</td>\n",
       "      <td>골프 바이블</td>\n",
       "      <td>대한미디어</td>\n",
       "      <td>35000</td>\n",
       "    </tr>\n",
       "    <tr>\n",
       "      <th>4</th>\n",
       "      <td>5</td>\n",
       "      <td>피겨 교본</td>\n",
       "      <td>굿스포츠</td>\n",
       "      <td>8000</td>\n",
       "    </tr>\n",
       "    <tr>\n",
       "      <th>5</th>\n",
       "      <td>6</td>\n",
       "      <td>역도 단계별기술</td>\n",
       "      <td>굿스포츠</td>\n",
       "      <td>6000</td>\n",
       "    </tr>\n",
       "    <tr>\n",
       "      <th>6</th>\n",
       "      <td>7</td>\n",
       "      <td>야구의 추억</td>\n",
       "      <td>이상미디어</td>\n",
       "      <td>20000</td>\n",
       "    </tr>\n",
       "    <tr>\n",
       "      <th>7</th>\n",
       "      <td>8</td>\n",
       "      <td>야구를 부탁해</td>\n",
       "      <td>이상미디어</td>\n",
       "      <td>13000</td>\n",
       "    </tr>\n",
       "    <tr>\n",
       "      <th>8</th>\n",
       "      <td>9</td>\n",
       "      <td>올림픽 이야기</td>\n",
       "      <td>삼성당</td>\n",
       "      <td>7500</td>\n",
       "    </tr>\n",
       "    <tr>\n",
       "      <th>9</th>\n",
       "      <td>10</td>\n",
       "      <td>Olympic Champions</td>\n",
       "      <td>Pearson</td>\n",
       "      <td>13000</td>\n",
       "    </tr>\n",
       "    <tr>\n",
       "      <th>10</th>\n",
       "      <td>21</td>\n",
       "      <td>Zen Golf</td>\n",
       "      <td>Pearson</td>\n",
       "      <td>12000</td>\n",
       "    </tr>\n",
       "    <tr>\n",
       "      <th>11</th>\n",
       "      <td>22</td>\n",
       "      <td>Soccer Skills</td>\n",
       "      <td>Human Kinetics</td>\n",
       "      <td>15000</td>\n",
       "    </tr>\n",
       "  </tbody>\n",
       "</table>\n",
       "</div>"
      ],
      "text/plain": [
       "     0                  1               2      3\n",
       "0    1             축구의 역사            굿스포츠   7000\n",
       "1    2            축구아는 여자             나무수  13000\n",
       "2    3             축구의 이해           대한미디어  22000\n",
       "3    4             골프 바이블           대한미디어  35000\n",
       "4    5              피겨 교본            굿스포츠   8000\n",
       "5    6           역도 단계별기술            굿스포츠   6000\n",
       "6    7             야구의 추억           이상미디어  20000\n",
       "7    8            야구를 부탁해           이상미디어  13000\n",
       "8    9            올림픽 이야기             삼성당   7500\n",
       "9   10  Olympic Champions         Pearson  13000\n",
       "10  21           Zen Golf         Pearson  12000\n",
       "11  22      Soccer Skills  Human Kinetics  15000"
      ]
     },
     "execution_count": 7,
     "metadata": {},
     "output_type": "execute_result"
    }
   ],
   "source": [
    "# DataFrame 형식으로 만들기\n",
    "import pandas as pd\n",
    "\n",
    "df = pd.DataFrame(rows)\n",
    "df"
   ]
  },
  {
   "cell_type": "code",
   "execution_count": null,
   "id": "d620d4a8",
   "metadata": {},
   "outputs": [],
   "source": []
  }
 ],
 "metadata": {
  "kernelspec": {
   "display_name": "Python 3",
   "language": "python",
   "name": "python3"
  },
  "language_info": {
   "codemirror_mode": {
    "name": "ipython",
    "version": 3
   },
   "file_extension": ".py",
   "mimetype": "text/x-python",
   "name": "python",
   "nbconvert_exporter": "python",
   "pygments_lexer": "ipython3",
   "version": "3.8.8"
  }
 },
 "nbformat": 4,
 "nbformat_minor": 5
}
